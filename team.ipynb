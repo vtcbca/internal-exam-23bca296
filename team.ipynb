{
 "cells": [
  {
   "cell_type": "markdown",
   "id": "0582dd44-ea9a-49d3-94be-95ce5a0ae40c",
   "metadata": {},
   "source": [
    "#### Create table team(tid, country, totalmatch, win,loss). Insert 8 team detail. Create trigger to verify totalmatch is not 0. export data into csv file. Read file using reader object and print record with winning %age."
   ]
  },
  {
   "cell_type": "code",
   "execution_count": 1,
   "id": "2a5f21da-298e-425b-ab80-a1ff1b7e697e",
   "metadata": {},
   "outputs": [],
   "source": [
    "import sqlite3 as sq"
   ]
  },
  {
   "cell_type": "code",
   "execution_count": 2,
   "id": "db7e3f41-94e9-44c5-ade8-02d68bc30c79",
   "metadata": {},
   "outputs": [],
   "source": [
    "con=sq.connect(\"D:/23BCA296/sqlite-tools-win-x64-3460000/team.db\")"
   ]
  },
  {
   "cell_type": "code",
   "execution_count": 3,
   "id": "bea6792f-7e31-473a-be5b-4a0ba7570c5d",
   "metadata": {},
   "outputs": [],
   "source": [
    "cur=con.cursor()"
   ]
  },
  {
   "cell_type": "code",
   "execution_count": 4,
   "id": "005aa812-19a3-4f18-b59f-48744838393d",
   "metadata": {},
   "outputs": [],
   "source": [
    "q=\"create table team(tid, country, totalmatch, win,loss)\""
   ]
  },
  {
   "cell_type": "code",
   "execution_count": 5,
   "id": "0c0c8464-5bb0-4d61-b17a-d4f1e1e7ae69",
   "metadata": {},
   "outputs": [
    {
     "data": {
      "text/plain": [
       "<sqlite3.Cursor at 0x2aef0d422c0>"
      ]
     },
     "execution_count": 5,
     "metadata": {},
     "output_type": "execute_result"
    }
   ],
   "source": [
    "cur.execute(q)"
   ]
  },
  {
   "cell_type": "code",
   "execution_count": 6,
   "id": "5771f145-172a-4f7f-ac59-7834eeb93d0a",
   "metadata": {},
   "outputs": [
    {
     "data": {
      "text/plain": [
       "<function Connection.commit()>"
      ]
     },
     "execution_count": 6,
     "metadata": {},
     "output_type": "execute_result"
    }
   ],
   "source": [
    "con.commit"
   ]
  },
  {
   "cell_type": "code",
   "execution_count": 7,
   "id": "12d41959-fff6-4017-89db-70fc66495f18",
   "metadata": {},
   "outputs": [
    {
     "data": {
      "text/plain": [
       "<function Connection.close()>"
      ]
     },
     "execution_count": 7,
     "metadata": {},
     "output_type": "execute_result"
    }
   ],
   "source": [
    "con.close"
   ]
  },
  {
   "cell_type": "markdown",
   "id": "d2ba796d-62c9-4348-86bb-4a098eb2b9ff",
   "metadata": {},
   "source": [
    "### insert record"
   ]
  },
  {
   "cell_type": "code",
   "execution_count": 8,
   "id": "dbc66331-4cab-4be3-a693-0f763f0a255b",
   "metadata": {},
   "outputs": [],
   "source": [
    "cur=con.cursor()"
   ]
  },
  {
   "cell_type": "code",
   "execution_count": 9,
   "id": "8842d928-eeae-4f27-a005-03d41268f611",
   "metadata": {},
   "outputs": [
    {
     "data": {
      "text/plain": [
       "<sqlite3.Cursor at 0x2aef0d41340>"
      ]
     },
     "execution_count": 9,
     "metadata": {},
     "output_type": "execute_result"
    }
   ],
   "source": [
    "cur.execute(\"insert into team values(1, 'USA', 10, 7, 3)\")"
   ]
  },
  {
   "cell_type": "code",
   "execution_count": 10,
   "id": "2bcf82c8-aa3a-4576-ad81-dbec4b6a6aac",
   "metadata": {},
   "outputs": [
    {
     "data": {
      "text/plain": [
       "<sqlite3.Cursor at 0x2aef0d41340>"
      ]
     },
     "execution_count": 10,
     "metadata": {},
     "output_type": "execute_result"
    }
   ],
   "source": [
    "cur.execute(\"insert into team values(2, 'Canada', 12, 8, 4)\")"
   ]
  },
  {
   "cell_type": "code",
   "execution_count": 11,
   "id": "2eaa92af-22df-45bb-842c-6c79dd1d83a3",
   "metadata": {},
   "outputs": [
    {
     "data": {
      "text/plain": [
       "<sqlite3.Cursor at 0x2aef0d41340>"
      ]
     },
     "execution_count": 11,
     "metadata": {},
     "output_type": "execute_result"
    }
   ],
   "source": [
    "cur.execute(\"insert into team values(3, 'Mexico', 11, 6, 5)\")"
   ]
  },
  {
   "cell_type": "code",
   "execution_count": 12,
   "id": "81ad9cf9-5244-4be6-9d2f-e587f112b291",
   "metadata": {},
   "outputs": [
    {
     "data": {
      "text/plain": [
       "<sqlite3.Cursor at 0x2aef0d41340>"
      ]
     },
     "execution_count": 12,
     "metadata": {},
     "output_type": "execute_result"
    }
   ],
   "source": [
    "cur.execute(\"insert into team values(4, 'Brazil', 13, 9, 4)\")"
   ]
  },
  {
   "cell_type": "code",
   "execution_count": 13,
   "id": "aa90d670-d163-466f-813b-9eca0ec00205",
   "metadata": {},
   "outputs": [
    {
     "data": {
      "text/plain": [
       "<sqlite3.Cursor at 0x2aef0d41340>"
      ]
     },
     "execution_count": 13,
     "metadata": {},
     "output_type": "execute_result"
    }
   ],
   "source": [
    "cur.execute(\"insert into team values(5, 'Argentina', 10, 5, 5)\")"
   ]
  },
  {
   "cell_type": "code",
   "execution_count": 14,
   "id": "3b9b6098-4dcd-4c17-9978-4627253a737b",
   "metadata": {},
   "outputs": [
    {
     "data": {
      "text/plain": [
       "<sqlite3.Cursor at 0x2aef0d41340>"
      ]
     },
     "execution_count": 14,
     "metadata": {},
     "output_type": "execute_result"
    }
   ],
   "source": [
    "cur.execute(\"insert into team values(6, 'Germany', 12, 8, 4)\")"
   ]
  },
  {
   "cell_type": "code",
   "execution_count": 15,
   "id": "b4a3c5e8-3994-43e1-bdbe-3826029346ae",
   "metadata": {},
   "outputs": [
    {
     "data": {
      "text/plain": [
       "<sqlite3.Cursor at 0x2aef0d41340>"
      ]
     },
     "execution_count": 15,
     "metadata": {},
     "output_type": "execute_result"
    }
   ],
   "source": [
    "cur.execute(\"insert into team values(7, 'France', 11, 7, 4)\")"
   ]
  },
  {
   "cell_type": "code",
   "execution_count": 16,
   "id": "c2d5f611-63af-4bf5-a63b-0ebafbf3d194",
   "metadata": {},
   "outputs": [
    {
     "data": {
      "text/plain": [
       "<sqlite3.Cursor at 0x2aef0d41340>"
      ]
     },
     "execution_count": 16,
     "metadata": {},
     "output_type": "execute_result"
    }
   ],
   "source": [
    "cur.execute(\"insert into team values(8, 'Italy', 10, 6, 4)\")"
   ]
  },
  {
   "cell_type": "code",
   "execution_count": 17,
   "id": "cfd598ee-71b0-4a71-a2fc-a80cff289916",
   "metadata": {},
   "outputs": [],
   "source": [
    "con.commit()"
   ]
  },
  {
   "cell_type": "markdown",
   "id": "0741950f-47eb-45e4-bf45-6b88b6db4a58",
   "metadata": {},
   "source": [
    "### create trigger"
   ]
  },
  {
   "cell_type": "code",
   "execution_count": 26,
   "id": "037dfbe2-a3e1-4951-b5e9-616311d8087a",
   "metadata": {},
   "outputs": [
    {
     "data": {
      "text/plain": [
       "<sqlite3.Cursor at 0x2aef0d41340>"
      ]
     },
     "execution_count": 26,
     "metadata": {},
     "output_type": "execute_result"
    }
   ],
   "source": [
    "cur.execute(\"create trigger verify_totalmatch BEFORE INSERT  ON team\\\n",
    "           begin\\\n",
    "                 select case\\\n",
    "                 when new.totalmatch = 0 THEN\\\n",
    "                 raise(abort,'Total matches cannot be 0')\\\n",
    "                 end;\\\n",
    "                 end;\\\n",
    "        \")"
   ]
  },
  {
   "cell_type": "markdown",
   "id": "4f8b443e-4fab-4d04-9894-34f522d0fb7e",
   "metadata": {},
   "source": [
    "### reading csv file"
   ]
  },
  {
   "cell_type": "code",
   "execution_count": 27,
   "id": "3836c0d8-3426-4df1-956f-60405d0300db",
   "metadata": {},
   "outputs": [],
   "source": [
    "from csv import reader"
   ]
  },
  {
   "cell_type": "code",
   "execution_count": 28,
   "id": "5d55fed7-1c69-4f72-8d6c-d2503127233a",
   "metadata": {},
   "outputs": [],
   "source": [
    "read_obj=open(\"D:/23BCA296/sqlite-tools-win-x64-3460000/csv/team3.csv\",\"r\")"
   ]
  },
  {
   "cell_type": "code",
   "execution_count": 29,
   "id": "64fa0e98-f5a8-4a53-a815-8c914c9bc01b",
   "metadata": {},
   "outputs": [],
   "source": [
    "csv_reader=reader(read_obj)"
   ]
  },
  {
   "cell_type": "code",
   "execution_count": 30,
   "id": "7ab59155-817f-4b99-a82b-a0b5456940d7",
   "metadata": {},
   "outputs": [
    {
     "name": "stdout",
     "output_type": "stream",
     "text": [
      "tid,country,totalmatch,win,loss\n",
      "\n",
      "1,USA,10,7,3\n",
      "\n",
      "2,Canada,12,8,4\n",
      "\n",
      "3,Mexico,11,6,5\n",
      "\n",
      "4,Brazil,13,9,4\n",
      "\n",
      "5,Argentina,10,5,5\n",
      "\n",
      "6,Germany,12,8,4\n",
      "\n",
      "7,France,11,7,4\n",
      "\n",
      "8,Italy,10,6,4\n",
      "\n"
     ]
    }
   ],
   "source": [
    "for row in read_obj:\n",
    "    print(row)"
   ]
  },
  {
   "cell_type": "code",
   "execution_count": null,
   "id": "569b17eb-8524-4791-b5e1-50465f287821",
   "metadata": {},
   "outputs": [],
   "source": []
  }
 ],
 "metadata": {
  "kernelspec": {
   "display_name": "Python 3 (ipykernel)",
   "language": "python",
   "name": "python3"
  },
  "language_info": {
   "codemirror_mode": {
    "name": "ipython",
    "version": 3
   },
   "file_extension": ".py",
   "mimetype": "text/x-python",
   "name": "python",
   "nbconvert_exporter": "python",
   "pygments_lexer": "ipython3",
   "version": "3.12.4"
  }
 },
 "nbformat": 4,
 "nbformat_minor": 5
}
